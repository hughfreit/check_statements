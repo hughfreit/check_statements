{
 "cells": [
  {
   "cell_type": "code",
   "execution_count": 2,
   "metadata": {
    "collapsed": false
   },
   "outputs": [
    {
     "name": "stdout",
     "output_type": "stream",
     "text": [
      "Your browser has been opened to visit:\n",
      "()\n",
      "    https://accounts.google.com/o/oauth2/auth?scope=https%3A%2F%2Fwww.googleapis.com%2Fauth%2Fdrive&redirect_uri=http%3A%2F%2Flocalhost%3A8080%2F&response_type=code&client_id=206511995748-7q2aq6oc1gsm980ieo037t3c7soitr00.apps.googleusercontent.com&access_type=offline\n",
      "()\n",
      "Authentication successful.\n"
     ]
    }
   ],
   "source": [
    "import psycopg2\n",
    "import string\n",
    "import json\n",
    "\n",
    "from oauth2client import client\n",
    "from pydrive.auth import GoogleAuth\n",
    "from pydrive.drive import GoogleDrive\n",
    "\n",
    "\n",
    "flow = client.flow_from_clientsecrets(\n",
    "                                    filename = 'client_secrets.json',\n",
    "                                    scope='https://www.googleapis.com/auth/drive.metadata.readonly',\n",
    "                                    redirect_uri='http://www.example.com/oauth2callback')\n",
    "flow.params['access_type'] = 'offline'         # offline access\n",
    "flow.params['include_granted_scopes'] = True   # incremental auth\n",
    "\n",
    "auth_uri = flow.step1_get_authorize_url()\n",
    "\n",
    "gauth = GoogleAuth()\n",
    "# Try to load saved client credentials\n",
    "gauth.LoadCredentialsFile(\"../mycreds.txt\")\n",
    "\n",
    "if gauth.credentials is None:\n",
    "    # Authenticate if they're not there\n",
    "    gauth.LocalWebserverAuth()\n",
    "\n",
    "elif gauth.access_token_expired:\n",
    "    # Refresh them if expired\n",
    "    gauth.Refresh()\n",
    "\n",
    "else:\n",
    "    # Initialize the saved creds\n",
    "    gauth.Authorize()\n",
    "# Save the current credentials to a file\n",
    "\n",
    "gauth.SaveCredentialsFile(\"gdrive_creds.txt\")"
   ]
  }
 ],
 "metadata": {
  "kernelspec": {
   "display_name": "Python [conda root]",
   "language": "python",
   "name": "conda-root-py"
  },
  "language_info": {
   "codemirror_mode": {
    "name": "ipython",
    "version": 2
   },
   "file_extension": ".py",
   "mimetype": "text/x-python",
   "name": "python",
   "nbconvert_exporter": "python",
   "pygments_lexer": "ipython2",
   "version": "2.7.13"
  }
 },
 "nbformat": 4,
 "nbformat_minor": 2
}
